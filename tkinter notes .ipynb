{
 "cells": [
  {
   "cell_type": "markdown",
   "id": "2a8514ad",
   "metadata": {},
   "source": [
    "## tkinter introduction\n",
    "Python has a lot of GUI frameworks, but Tkinter is the only framework that’s built into the Python standard library. Tkinter has several strengths. It’s cross-platform, so the same code works on Windows, macOS, and Linux. Visual elements are rendered using native operating system elements, so applications built with Tkinter look like they belong on the platform where they’re run.\n",
    "\n",
    "Tkinter is lightweight and relatively painless to use compared to other frameworks. This makes it a compelling choice for building GUI applications in Python, especially for applications where a modern sheen is unnecessary, and the top priority is to quickly build something that’s functional and cross-platform."
   ]
  },
  {
   "cell_type": "code",
   "execution_count": 13,
   "id": "54741286",
   "metadata": {},
   "outputs": [],
   "source": [
    "import tkinter as tk"
   ]
  },
  {
   "cell_type": "markdown",
   "id": "a8ca775d",
   "metadata": {},
   "source": [
    "A window is an instance of Tkinter’s Tk class. Go ahead and create a new window and assign it to the variable window:"
   ]
  },
  {
   "cell_type": "code",
   "execution_count": 14,
   "id": "634c7788",
   "metadata": {},
   "outputs": [],
   "source": [
    "window = tk.Tk()"
   ]
  },
  {
   "cell_type": "markdown",
   "id": "6c329475",
   "metadata": {},
   "source": [
    "### Adding a Widget\n",
    "Now that you have a window, you can add a widget. Use the tk.Label class to add some text to a window. Create a Label widget with the text \"Hello, Tkinter\" and assign it to a variable called greeting:\n",
    "\n"
   ]
  },
  {
   "cell_type": "code",
   "execution_count": 15,
   "id": "ff4df952",
   "metadata": {},
   "outputs": [],
   "source": [
    "greeting = tk.Label(text=\"Hello, Tkinter\")"
   ]
  },
  {
   "cell_type": "markdown",
   "id": "e7fca1d2",
   "metadata": {},
   "source": [
    "The window you created earlier doesn’t change. You just created a Label widget, but you haven’t added it to the window yet. There are several ways to add widgets to a window. Right now, you can use the Label widget’s .pack() method:"
   ]
  },
  {
   "cell_type": "code",
   "execution_count": 16,
   "id": "3c5cf252",
   "metadata": {},
   "outputs": [],
   "source": [
    "greeting.pack()"
   ]
  },
  {
   "cell_type": "markdown",
   "id": "9d728acf",
   "metadata": {},
   "source": [
    "When you pack a widget into a window, Tkinter sizes the window as small as it can be while still fully encompassing the widget. Now execute the following:"
   ]
  },
  {
   "cell_type": "code",
   "execution_count": 17,
   "id": "480a55dc",
   "metadata": {},
   "outputs": [],
   "source": [
    "window.mainloop()"
   ]
  },
  {
   "cell_type": "markdown",
   "id": "a0570490",
   "metadata": {},
   "source": [
    "window.mainloop() tells Python to run the Tkinter event loop. This method listens for events, such as button clicks or keypresses, and blocks any code that comes after it from running until you close the window where you called the method. Go ahead and close the window you’ve created, and you’ll see a new prompt displayed in the shell."
   ]
  },
  {
   "cell_type": "markdown",
   "id": "318b6396",
   "metadata": {},
   "source": [
    "### Examples \n"
   ]
  },
  {
   "cell_type": "code",
   "execution_count": 18,
   "id": "70da3957",
   "metadata": {},
   "outputs": [],
   "source": [
    "import tkinter as tk\n",
    "r = tk.Tk()\n",
    "r.title('Counting Seconds')\n",
    "button = tk.Button(r, text='Stop', width=25, command=r.destroy)\n",
    "button.pack()\n",
    "r.mainloop()"
   ]
  },
  {
   "cell_type": "markdown",
   "id": "1eee6d86",
   "metadata": {},
   "source": [
    "#### Canvas:\n",
    "It is used to draw pictures and other complex layout like graphics, text and widgets. The general syntax is:\\\n",
    "w = Canvas(master, option=value)\\\n",
    "master is the parameter used to represent the parent window."
   ]
  },
  {
   "cell_type": "code",
   "execution_count": 19,
   "id": "1e52eca7",
   "metadata": {},
   "outputs": [],
   "source": [
    "from tkinter import *\n",
    "master = Tk()\n",
    "w = Canvas(master, width=40, height=60)\n",
    "w.pack()\n",
    "canvas_height=20\n",
    "canvas_width=200\n",
    "y = int(canvas_height / 2)\n",
    "w.create_line(0, y, canvas_width, y )\n",
    "mainloop()"
   ]
  },
  {
   "cell_type": "markdown",
   "id": "73208478",
   "metadata": {},
   "source": [
    "CheckButton: To select any number of options by displaying a number of options to a user as toggle buttons. The general syntax is:\\\n",
    "w = CheckButton(master, option=value)"
   ]
  },
  {
   "cell_type": "code",
   "execution_count": 20,
   "id": "d0848434",
   "metadata": {},
   "outputs": [],
   "source": [
    "from tkinter import *\n",
    "master = Tk()\n",
    "var1 = IntVar()\n",
    "Checkbutton(master, text='male', variable=var1).grid(row=0, sticky=W)\n",
    "var2 = IntVar()\n",
    "Checkbutton(master, text='female', variable=var2).grid(row=1, sticky=W)\n",
    "mainloop()"
   ]
  },
  {
   "cell_type": "markdown",
   "id": "422c46fd",
   "metadata": {},
   "source": [
    "### Entry:\n",
    "It is used to input the single line text entry from the user.. For multi-line text input, Text widget is used. The general syntax is:\\\n",
    "w=Entry(master, option=value)"
   ]
  },
  {
   "cell_type": "code",
   "execution_count": 21,
   "id": "86c6a681",
   "metadata": {},
   "outputs": [],
   "source": [
    "from tkinter import *\n",
    "master = Tk()\n",
    "Label(master, text='First Name').grid(row=0)\n",
    "Label(master, text='Last Name').grid(row=1)\n",
    "e1 = Entry(master)\n",
    "e2 = Entry(master)\n",
    "e1.grid(row=0, column=1)\n",
    "e2.grid(row=1, column=1)\n",
    "mainloop()"
   ]
  },
  {
   "cell_type": "code",
   "execution_count": null,
   "id": "f6ef7055",
   "metadata": {},
   "outputs": [],
   "source": []
  }
 ],
 "metadata": {
  "kernelspec": {
   "display_name": "Python 3 (ipykernel)",
   "language": "python",
   "name": "python3"
  },
  "language_info": {
   "codemirror_mode": {
    "name": "ipython",
    "version": 3
   },
   "file_extension": ".py",
   "mimetype": "text/x-python",
   "name": "python",
   "nbconvert_exporter": "python",
   "pygments_lexer": "ipython3",
   "version": "3.8.8"
  }
 },
 "nbformat": 4,
 "nbformat_minor": 5
}
